{
 "cells": [
  {
   "cell_type": "code",
   "execution_count": 1,
   "id": "464f4241",
   "metadata": {},
   "outputs": [],
   "source": [
    "# Import library\n",
    "\n",
    "import pandas as pd\n",
    "import requests"
   ]
  },
  {
   "cell_type": "code",
   "execution_count": 2,
   "id": "59575c39",
   "metadata": {},
   "outputs": [],
   "source": [
    "# Download dataset\n",
    "\n",
    "response = requests.get(\"https://raw.githubusercontent.com/yinghaoz1/tmdb-movie-dataset-analysis/master/tmdb-movies.csv\")\n",
    "with open(\"tmdb-movies.csv\", \"wb\") as wf:\n",
    "    wf.write(response.content)"
   ]
  },
  {
   "cell_type": "code",
   "execution_count": 3,
   "id": "ff220a2e",
   "metadata": {},
   "outputs": [],
   "source": [
    "#Load dataset\n",
    "\n",
    "df = pd.read_csv(\"tmdb-movies.csv\")"
   ]
  },
  {
   "cell_type": "code",
   "execution_count": 4,
   "id": "738dec73",
   "metadata": {},
   "outputs": [],
   "source": [
    "# Process Date type\n",
    "def format_date(row):\n",
    "    try:\n",
    "        date = row['release_date']\n",
    "        parts = date.split('/')\n",
    "        month = parts[0].zfill(2)\n",
    "        day = parts[1].zfill(2)\n",
    "        year = str(row['release_year'])\n",
    "        return f\"{year}/{month}/{day}\"\n",
    "    except:\n",
    "        return None\n",
    "\n",
    "df['release_date'] = df.apply(format_date, axis=1)"
   ]
  },
  {
   "cell_type": "code",
   "execution_count": 5,
   "id": "edb176df",
   "metadata": {},
   "outputs": [],
   "source": [
    "# 1. Sort movies by release date in descending order and save to a new file\n",
    "sorted_movies_by_date = df.sort_values(by='release_date', ascending=False)\n",
    "sorted_movies_by_date.to_csv('output/sorted_movies_by_date.csv', index=False)"
   ]
  },
  {
   "cell_type": "code",
   "execution_count": 6,
   "id": "3307cb8d",
   "metadata": {},
   "outputs": [
    {
     "name": "stdout",
     "output_type": "stream",
     "text": [
      "The number of above 7.5 rate movies: 350\n"
     ]
    }
   ],
   "source": [
    "# 2. Filter out movies with an average voting above 7.5 and save to a new file\n",
    "above_75_rate_movies = df[df['vote_average'] > 7.5]\n",
    "above_75_rate_movies.to_csv('output/above_75_rate_movies.csv', index=False)\n",
    "\n",
    "print(f\"The number of above 7.5 rate movies: {len(above_75_rate_movies)}\")"
   ]
  },
  {
   "cell_type": "code",
   "execution_count": 7,
   "id": "5aa6556e",
   "metadata": {},
   "outputs": [
    {
     "name": "stdout",
     "output_type": "stream",
     "text": [
      "The number of movies with max revenue: 1\n",
      "The number of movies with min revenue: 6016\n",
      "The number of movies with max revenue adj: 1\n",
      "The number of movies with min revenue adj: 6016\n"
     ]
    }
   ],
   "source": [
    "# Ensure 'revenue' and 'revenue_adj' are numeric\n",
    "df['revenue'] = pd.to_numeric(df['revenue'], errors='coerce')\n",
    "df['revenue_adj'] = pd.to_numeric(df['revenue_adj'], errors='coerce')\n",
    "\n",
    "# 3.1 By 'revenue' field\n",
    "max_revenue = df[df['revenue'] == df['revenue'].max()]\n",
    "min_revenue = df[df['revenue'] == df['revenue'].min()]\n",
    "max_revenue.to_csv('output/max_revenue.csv', index=False)\n",
    "min_revenue.to_csv('output/min_revenue.csv', index=False)\n",
    "\n",
    "print(f\"The number of movies with max revenue: {len(max_revenue)}\")\n",
    "print(f\"The number of movies with min revenue: {len(min_revenue)}\")\n",
    "\n",
    "# 3.2 By 'revenue_adj' field\n",
    "max_revenue_adj = df[df['revenue_adj'] == df['revenue_adj'].max()]\n",
    "min_revenue_adj = df[df['revenue_adj'] == df['revenue_adj'].min()]\n",
    "max_revenue_adj.to_csv('output/max_revenue_adj.csv', index=False)\n",
    "min_revenue_adj.to_csv('output/min_revenue_adj.csv', index=False)\n",
    "\n",
    "print(f\"The number of movies with max revenue adj: {len(max_revenue_adj)}\")\n",
    "print(f\"The number of movies with min revenue adj: {len(min_revenue_adj)}\")\n"
   ]
  },
  {
   "cell_type": "code",
   "execution_count": 8,
   "id": "7dab08b3",
   "metadata": {},
   "outputs": [],
   "source": [
    "# 4. Calculate total revenue of all movies\n",
    "# 4.1 Total revenue\n",
    "sum_revenue = df['revenue'].sum()\n",
    "\n",
    "# 4.2 Total revenue_adj\n",
    "sum_revenue_adj = df['revenue_adj'].sum()\n",
    "\n",
    "with open ('output/single_output.txt', 'a', encoding='utf-8') as wf:\n",
    "    wf.write(f\"The sum of revenue by revenue field: {sum_revenue:.10f} dollars\\n\")\n",
    "    wf.write(f\"The sum of revenue by revenue_adj field: {sum_revenue_adj:.10f} dollars\\n\")"
   ]
  },
  {
   "cell_type": "code",
   "execution_count": 9,
   "id": "6c3bfb8a",
   "metadata": {},
   "outputs": [],
   "source": [
    "# 5. Top 10 highest profits\n",
    "# 5.1 By revenue and budget\n",
    "df['profit'] = df['revenue'] - df['budget']\n",
    "top_profit = df.sort_values(by='profit', ascending=False).head(10)\n",
    "top_profit.to_csv('output/top_profit.csv', index=False)\n",
    "\n",
    "# 5.2 By revenue_adj and budget_adj\n",
    "df['profit_adj'] = df['revenue_adj'] - df['budget_adj']\n",
    "top_profit_adj = df.sort_values(by='profit_adj', ascending=False).head(10)\n",
    "top_profit_adj.to_csv('output/top_profit_adj.csv', index=False)"
   ]
  },
  {
   "cell_type": "code",
   "execution_count": 10,
   "id": "7f696418",
   "metadata": {},
   "outputs": [],
   "source": [
    "# 6. Which director has the most films and which actor has the most films\n",
    "# Director\n",
    "da = df[df['director'].notna()]  # Get rows with not null in director column\n",
    "all_directors = da['director'].str.split('|').explode().str.strip()\n",
    "all_directors = all_directors[all_directors != ''] # after splitting, there exist empty\n",
    "\n",
    "director_count = all_directors.value_counts()\n",
    "most_directed = director_count.idxmax()\n",
    "num_movies_directed = director_count.max()\n",
    "\n",
    "# Actor or Actress\n",
    "dv = df[df['cast'].notna()] # Get rows with not null in cast column\n",
    "all_actors = dv['cast'].str.split('|').explode().str.strip()\n",
    "all_actors = all_actors[all_actors != ''] # after splitting, there exist empty\n",
    "\n",
    "\n",
    "actor_counts = all_actors.value_counts()\n",
    "most_common_actor = actor_counts.idxmax()\n",
    "num_movies = actor_counts.max()\n",
    "\n",
    "with open ('output/single_output.txt', 'a', encoding='utf-8') as wf:\n",
    "    wf.write(f\"The director has the most movies is: {most_directed} ({num_movies_directed} movies)\\n\")\n",
    "    wf.write(f\"The actor or actress has the most movies is: {most_common_actor} ({num_movies} movies)\\n\")\n"
   ]
  },
  {
   "cell_type": "code",
   "execution_count": 11,
   "id": "51a3289c",
   "metadata": {},
   "outputs": [],
   "source": [
    "# 7. Count the number of movies by genre.\n",
    "# For example, how many movies are in the Action genre, how many are in the Family genre, ….\n",
    "dg = df[df['genres'].notna()] # Get rows with not null in genres column\n",
    "all_genres = dg['genres'].str.split('|').explode().str.strip()\n",
    "all_genres = all_genres[all_genres != ''] # after splitting, there exist empty\n",
    "\n",
    "genres_count = all_genres.value_counts()\n",
    "\n",
    "with open('output/statistic_movie_genres.txt', 'w', encoding='utf-8') as wf:\n",
    "    for genre, count in genres_count.items():\n",
    "        wf.write(f\"{genre}: {count}\\n\")"
   ]
  }
 ],
 "metadata": {
  "kernelspec": {
   "display_name": ".venv",
   "language": "python",
   "name": "python3"
  },
  "language_info": {
   "codemirror_mode": {
    "name": "ipython",
    "version": 3
   },
   "file_extension": ".py",
   "mimetype": "text/x-python",
   "name": "python",
   "nbconvert_exporter": "python",
   "pygments_lexer": "ipython3",
   "version": "3.12.10"
  }
 },
 "nbformat": 4,
 "nbformat_minor": 5
}
